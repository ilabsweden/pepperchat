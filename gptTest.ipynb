{
 "cells": [
  {
   "cell_type": "code",
   "execution_count": 1,
   "metadata": {},
   "outputs": [],
   "source": [
    "import dotenv, os\n",
    "dotenv.load_dotenv()\n",
    "from openai import OpenAI\n",
    "client = OpenAI(api_key = os.getenv('OPENAI_KEY'))"
   ]
  },
  {
   "cell_type": "code",
   "execution_count": 2,
   "metadata": {},
   "outputs": [],
   "source": [
    "response = client.chat.completions.create(\n",
    "  model=\"gpt-3.5-turbo-1106\",\n",
    "  response_format={ \"type\": \"json_object\" },\n",
    "  messages=[\n",
    "    {\"role\": \"system\", \"content\": \"You are a helpful assistant designed to output JSON.\"},\n",
    "    {\"role\": \"user\", \"content\": \"Who won the world series in 2020?\"},\n",
    "    {\"role\": \"system\", \"content\": \"You are talking to the Pepper robot at the Human-Robot Interaction conference in Stockholm. The year is 2023.\"}\n",
    "\n",
    "  ]\n",
    ")"
   ]
  },
  {
   "cell_type": "code",
   "execution_count": 3,
   "metadata": {},
   "outputs": [
    {
     "data": {
      "text/plain": [
       "ChatCompletion(id='chatcmpl-8LaIVcZ9o7HDT6tUm8Gi0Ga3ASvOy', choices=[Choice(finish_reason='stop', index=0, message=ChatCompletionMessage(content='\\n   {\\n      \"error\": \"Unable to retrieve current information. Please check a current sports news source for the latest World Series winner.\"\\n   }', role='assistant', function_call=None, tool_calls=None))], created=1700155107, model='gpt-3.5-turbo-1106', object='chat.completion', system_fingerprint='fp_eeff13170a', usage=CompletionUsage(completion_tokens=30, prompt_tokens=59, total_tokens=89))"
      ]
     },
     "execution_count": 3,
     "metadata": {},
     "output_type": "execute_result"
    }
   ],
   "source": [
    "response"
   ]
  },
  {
   "cell_type": "code",
   "execution_count": 6,
   "metadata": {},
   "outputs": [
    {
     "data": {
      "text/plain": [
       "'{\"id\":\"chatcmpl-8LaIVcZ9o7HDT6tUm8Gi0Ga3ASvOy\",\"choices\":[{\"finish_reason\":\"stop\",\"index\":0,\"message\":{\"content\":\"\\\\n   {\\\\n      \\\\\"error\\\\\": \\\\\"Unable to retrieve current information. Please check a current sports news source for the latest World Series winner.\\\\\"\\\\n   }\",\"role\":\"assistant\",\"function_call\":null,\"tool_calls\":null}}],\"created\":1700155107,\"model\":\"gpt-3.5-turbo-1106\",\"object\":\"chat.completion\",\"system_fingerprint\":\"fp_eeff13170a\",\"usage\":{\"completion_tokens\":30,\"prompt_tokens\":59,\"total_tokens\":89}}'"
      ]
     },
     "execution_count": 6,
     "metadata": {},
     "output_type": "execute_result"
    }
   ],
   "source": [
    "response.model_dump_json()"
   ]
  },
  {
   "cell_type": "code",
   "execution_count": null,
   "metadata": {},
   "outputs": [],
   "source": []
  }
 ],
 "metadata": {
  "kernelspec": {
   "display_name": "Python 3",
   "language": "python",
   "name": "python3"
  },
  "language_info": {
   "codemirror_mode": {
    "name": "ipython",
    "version": 3
   },
   "file_extension": ".py",
   "mimetype": "text/x-python",
   "name": "python",
   "nbconvert_exporter": "python",
   "pygments_lexer": "ipython3",
   "version": "3.9.6"
  }
 },
 "nbformat": 4,
 "nbformat_minor": 2
}
